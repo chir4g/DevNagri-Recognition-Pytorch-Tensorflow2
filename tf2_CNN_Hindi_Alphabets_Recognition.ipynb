{
 "cells": [
  {
   "cell_type": "code",
   "execution_count": 37,
   "metadata": {},
   "outputs": [],
   "source": [
    "from tensorflow.keras.models import Sequential\n",
    "from tensorflow.keras.layers import Dense, Conv2D, Flatten, Dropout, MaxPooling2D\n",
    "from tensorflow.keras.preprocessing.image import ImageDataGenerator\n",
    "from tensorflow import keras"
   ]
  },
  {
   "cell_type": "code",
   "execution_count": 2,
   "metadata": {},
   "outputs": [],
   "source": [
    "import os\n",
    "import cv2\n",
    "import matplotlib.pyplot as plt\n",
    "import numpy as np"
   ]
  },
  {
   "cell_type": "code",
   "execution_count": 3,
   "metadata": {},
   "outputs": [],
   "source": [
    "train_path = os.path.join('devnagri_alphabets','Train')\n",
    "test_path = os.path.join('devnagri_alphabets','Test')"
   ]
  },
  {
   "cell_type": "code",
   "execution_count": 4,
   "metadata": {},
   "outputs": [
    {
     "name": "stdout",
     "output_type": "stream",
     "text": [
      "Train Instance:  61201\n",
      "Test Instance:  10800\n"
     ]
    }
   ],
   "source": [
    "count_train,count_test = 0,0\n",
    "for d in os.listdir(train_path):\n",
    "    count_train += len(os.listdir(os.path.join(train_path, d)))\n",
    "    count_test += len(os.listdir(os.path.join(test_path, d)))\n",
    "print(\"Train Instance: \", count_train)\n",
    "print(\"Test Instance: \", count_test)"
   ]
  },
  {
   "cell_type": "code",
   "execution_count": 5,
   "metadata": {},
   "outputs": [
    {
     "name": "stdout",
     "output_type": "stream",
     "text": [
      "(32, 32, 3)\n"
     ]
    }
   ],
   "source": [
    "image = cv2.imread(\"devnagri_alphabets/Train/character_1_ka/10969.png\")\n",
    "print(image.shape)"
   ]
  },
  {
   "cell_type": "code",
   "execution_count": 25,
   "metadata": {},
   "outputs": [],
   "source": [
    "img_size = 32\n",
    "batch_size = 128\n",
    "epochs = 10"
   ]
  },
  {
   "cell_type": "code",
   "execution_count": 7,
   "metadata": {},
   "outputs": [],
   "source": [
    "train_image_generator = ImageDataGenerator(rescale=1./255) # Generator for our training data\n",
    "validation_image_generator = ImageDataGenerator(rescale=1./255) # Generator for our validation data"
   ]
  },
  {
   "cell_type": "code",
   "execution_count": 8,
   "metadata": {},
   "outputs": [
    {
     "name": "stdout",
     "output_type": "stream",
     "text": [
      "Found 61201 images belonging to 36 classes.\n"
     ]
    }
   ],
   "source": [
    "train_data_gen = train_image_generator.flow_from_directory(batch_size=batch_size,\n",
    "                                                           directory=train_path,\n",
    "                                                           shuffle=True,\n",
    "                                                           target_size=(img_size,img_size))"
   ]
  },
  {
   "cell_type": "code",
   "execution_count": 9,
   "metadata": {},
   "outputs": [
    {
     "name": "stdout",
     "output_type": "stream",
     "text": [
      "Found 10800 images belonging to 36 classes.\n"
     ]
    }
   ],
   "source": [
    "val_data_gen = train_image_generator.flow_from_directory(batch_size=batch_size,\n",
    "                                                           directory=test_path,\n",
    "                                                           shuffle=True,\n",
    "                                                           target_size=(img_size,img_size))"
   ]
  },
  {
   "cell_type": "code",
   "execution_count": 28,
   "metadata": {},
   "outputs": [],
   "source": [
    "sample_training_images, _ = next(train_data_gen)"
   ]
  },
  {
   "cell_type": "code",
   "execution_count": 11,
   "metadata": {},
   "outputs": [],
   "source": [
    "# This function will plot images in the form of a grid with 1 row and 5 columns where images are placed in each column.\n",
    "def plotImages(images_arr):\n",
    "    fig, axes = plt.subplots(1, 5, figsize=(20,20))\n",
    "    axes = axes.flatten()\n",
    "    for img, ax in zip( images_arr, axes):\n",
    "        ax.imshow(img)\n",
    "        ax.axis('off')\n",
    "    plt.tight_layout()\n",
    "    plt.show()"
   ]
  },
  {
   "cell_type": "code",
   "execution_count": 10,
   "metadata": {},
   "outputs": [],
   "source": []
  },
  {
   "cell_type": "code",
   "execution_count": 12,
   "metadata": {},
   "outputs": [
    {
     "data": {
      "image/png": "[encoded data removed]",
      "text/plain": [
       "<Figure size 1440x1440 with 5 Axes>"
      ]
     },
     "metadata": {
      "needs_background": "light"
     },
     "output_type": "display_data"
    }
   ],
   "source": [
    "plotImages(sample_training_images[:5])"
   ]
  },
  {
   "cell_type": "code",
   "execution_count": 18,
   "metadata": {},
   "outputs": [],
   "source": [
    "cnn_model = Sequential()\n",
    "cnn_model.add(Conv2D(50,(3,3), activation='relu',input_shape=(img_size,img_size,3), name='conv2d_layer'))\n",
    "cnn_model.add(MaxPooling2D((2,2)))\n",
    "cnn_model.add(Conv2D(100,(3,3), activation='relu', name='conv2d_layer_2'))\n",
    "cnn_model.add(MaxPooling2D(2,2))\n",
    "cnn_model.add(Flatten())\n",
    "cnn_model.add(Dense(1200,activation='relu',name='hidden_layer'))\n",
    "cnn_model.add(Dense(200,activation='relu',name='hidden_layer_2'))\n",
    "cnn_model.add(Dense(36,activation='softmax',name='output'))"
   ]
  },
  {
   "cell_type": "code",
   "execution_count": 19,
   "metadata": {},
   "outputs": [
    {
     "name": "stdout",
     "output_type": "stream",
     "text": [
      "Model: \"sequential_4\"\n",
      "_________________________________________________________________\n",
      "Layer (type)                 Output Shape              Param #   \n",
      "=================================================================\n",
      "conv2d_layer (Conv2D)        (None, 30, 30, 50)        1400      \n",
      "_________________________________________________________________\n",
      "max_pooling2d_3 (MaxPooling2 (None, 15, 15, 50)        0         \n",
      "_________________________________________________________________\n",
      "conv2d_layer_2 (Conv2D)      (None, 13, 13, 100)       45100     \n",
      "_________________________________________________________________\n",
      "max_pooling2d_4 (MaxPooling2 (None, 6, 6, 100)         0         \n",
      "_________________________________________________________________\n",
      "flatten_1 (Flatten)          (None, 3600)              0         \n",
      "_________________________________________________________________\n",
      "hidden_layer (Dense)         (None, 1200)              4321200   \n",
      "_________________________________________________________________\n",
      "hidden_layer_2 (Dense)       (None, 200)               240200    \n",
      "_________________________________________________________________\n",
      "output (Dense)               (None, 36)                7236      \n",
      "=================================================================\n",
      "Total params: 4,615,136\n",
      "Trainable params: 4,615,136\n",
      "Non-trainable params: 0\n",
      "_________________________________________________________________\n"
     ]
    }
   ],
   "source": [
    "cnn_model.summary()"
   ]
  },
  {
   "cell_type": "code",
   "execution_count": 30,
   "metadata": {},
   "outputs": [],
   "source": [
    "cnn_model.compile(optimizer='adam', loss='categorical_crossentropy', metrics=['accuracy'])"
   ]
  },
  {
   "cell_type": "code",
   "execution_count": 31,
   "metadata": {},
   "outputs": [
    {
     "name": "stdout",
     "output_type": "stream",
     "text": [
      "WARNING:tensorflow:sample_weight modes were coerced from\n",
      "  ...\n",
      "    to  \n",
      "  ['...']\n",
      "WARNING:tensorflow:sample_weight modes were coerced from\n",
      "  ...\n",
      "    to  \n",
      "  ['...']\n",
      "Train for 479 steps, validate for 85 steps\n",
      "Epoch 1/10\n",
      "479/479 [==============================] - 3424s 7s/step - loss: 0.5226 - accuracy: 0.8494 - val_loss: 0.1766 - val_accuracy: 0.9485\n",
      "Epoch 2/10\n",
      "479/479 [==============================] - 102s 214ms/step - loss: 0.1088 - accuracy: 0.9655 - val_loss: 0.0995 - val_accuracy: 0.9688\n",
      "Epoch 3/10\n",
      "479/479 [==============================] - 81s 170ms/step - loss: 0.0487 - accuracy: 0.9842 - val_loss: 0.1295 - val_accuracy: 0.9644\n",
      "Epoch 4/10\n",
      "479/479 [==============================] - 89s 185ms/step - loss: 0.0333 - accuracy: 0.9890 - val_loss: 0.0890 - val_accuracy: 0.9752\n",
      "Epoch 5/10\n",
      "479/479 [==============================] - 76s 158ms/step - loss: 0.0243 - accuracy: 0.9920 - val_loss: 0.0991 - val_accuracy: 0.9729\n",
      "Epoch 6/10\n",
      "479/479 [==============================] - 77s 160ms/step - loss: 0.0254 - accuracy: 0.9920 - val_loss: 0.1008 - val_accuracy: 0.9721\n",
      "Epoch 7/10\n",
      "479/479 [==============================] - 82s 171ms/step - loss: 0.0175 - accuracy: 0.9943 - val_loss: 0.0979 - val_accuracy: 0.9746\n",
      "Epoch 8/10\n",
      "479/479 [==============================] - 89s 186ms/step - loss: 0.0179 - accuracy: 0.9939 - val_loss: 0.1154 - val_accuracy: 0.9722\n",
      "Epoch 9/10\n",
      "479/479 [==============================] - 84s 176ms/step - loss: 0.0167 - accuracy: 0.9948 - val_loss: 0.1081 - val_accuracy: 0.9754\n",
      "Epoch 10/10\n",
      "479/479 [==============================] - 87s 182ms/step - loss: 0.0155 - accuracy: 0.9949 - val_loss: 0.1068 - val_accuracy: 0.9757\n"
     ]
    }
   ],
   "source": [
    "history = cnn_model.fit_generator(\n",
    "    train_data_gen, #batch_size,\n",
    "    epochs=epochs,\n",
    "    validation_data=val_data_gen, # batch_size\n",
    ")"
   ]
  },
  {
   "cell_type": "code",
   "execution_count": 33,
   "metadata": {},
   "outputs": [],
   "source": [
    "cnn_model.save(\"hindi_cnn_weights.h5\")"
   ]
  },
  {
   "cell_type": "code",
   "execution_count": 39,
   "metadata": {},
   "outputs": [],
   "source": [
    "new_model = keras.models.load_model(\"hindi_cnn_weights.h5\")"
   ]
  },
  {
   "cell_type": "code",
   "execution_count": 40,
   "metadata": {},
   "outputs": [
    {
     "name": "stdout",
     "output_type": "stream",
     "text": [
      "Model: \"sequential_4\"\n",
      "_________________________________________________________________\n",
      "Layer (type)                 Output Shape              Param #   \n",
      "=================================================================\n",
      "conv2d_layer (Conv2D)        (None, 30, 30, 50)        1400      \n",
      "_________________________________________________________________\n",
      "max_pooling2d_3 (MaxPooling2 (None, 15, 15, 50)        0         \n",
      "_________________________________________________________________\n",
      "conv2d_layer_2 (Conv2D)      (None, 13, 13, 100)       45100     \n",
      "_________________________________________________________________\n",
      "max_pooling2d_4 (MaxPooling2 (None, 6, 6, 100)         0         \n",
      "_________________________________________________________________\n",
      "flatten_1 (Flatten)          (None, 3600)              0         \n",
      "_________________________________________________________________\n",
      "hidden_layer (Dense)         (None, 1200)              4321200   \n",
      "_________________________________________________________________\n",
      "hidden_layer_2 (Dense)       (None, 200)               240200    \n",
      "_________________________________________________________________\n",
      "output (Dense)               (None, 36)                7236      \n",
      "=================================================================\n",
      "Total params: 4,615,136\n",
      "Trainable params: 4,615,136\n",
      "Non-trainable params: 0\n",
      "_________________________________________________________________\n"
     ]
    }
   ],
   "source": [
    "new_model.summary()"
   ]
  },
  {
   "cell_type": "code",
   "execution_count": null,
   "metadata": {},
   "outputs": [],
   "source": []
  }
 ],
 "metadata": {
  "kernelspec": {
   "display_name": "Python 3",
   "language": "python",
   "name": "python3"
  },
  "language_info": {
   "codemirror_mode": {
    "name": "ipython",
    "version": 3
   },
   "file_extension": ".py",
   "mimetype": "text/x-python",
   "name": "python",
   "nbconvert_exporter": "python",
   "pygments_lexer": "ipython3",
   "version": "3.7.5"
  }
 },
 "nbformat": 4,
 "nbformat_minor": 4
}
